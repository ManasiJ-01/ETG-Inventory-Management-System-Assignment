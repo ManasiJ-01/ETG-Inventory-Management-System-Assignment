{
  "nbformat": 4,
  "nbformat_minor": 0,
  "metadata": {
    "colab": {
      "provenance": []
    },
    "kernelspec": {
      "name": "python3",
      "display_name": "Python 3"
    },
    "language_info": {
      "name": "python"
    }
  },
  "cells": [
    {
      "cell_type": "markdown",
      "source": [
        "# **Read Inventory**"
      ],
      "metadata": {
        "id": "Eia8FEZgpCvh"
      }
    },
    {
      "cell_type": "code",
      "source": [
        "import json\n",
        "\n",
        "fd = open(\"record.json\",'r')\n",
        "r = fd.read()\n",
        "fd.close()\n",
        "\n",
        "records = json.loads(r)"
      ],
      "metadata": {
        "id": "meNO6BJOpLd5"
      },
      "execution_count": 1,
      "outputs": []
    },
    {
      "cell_type": "code",
      "source": [
        "r"
      ],
      "metadata": {
        "id": "pWHu-aiNpwrB",
        "colab": {
          "base_uri": "https://localhost:8080/",
          "height": 192
        },
        "outputId": "eafc4da6-e38d-4ea4-a4af-b621b5a82df9"
      },
      "execution_count": 2,
      "outputs": [
        {
          "output_type": "execute_result",
          "data": {
            "text/plain": [
              "'{\"1001\": {\"name\": \"Choco Cake\", \"qn\": -17, \"pr\": 100}, \"1002\": {\"name\": \"Milk Cake\", \"pr\": 800, \"qn\": 95}, \"1003\": {\"name\": \"milk\", \"pr\": \"56\", \"qn\": \"67\"}, \"1004\": {\"name\": \"bread\", \"pr\": \"69\", \"qn\": 5}, \"1005\": {\"name\": \"butter\", \"pr\": \"80\", \"qn\": 55}, \"1006\": {\"name\": \"pasta\", \"pr\": \"100\", \"qn\": 36}, \"1007\": {\"name\": \"biscuits\", \"pr\": \"90\", \"qn\": 47}, \"1008\": {\"name\": \"fruits\", \"pr\": \"97\", \"qn\": 51}, \"1009\": {\"name\": \"vegetables\", \"pr\": \"80\", \"qn\": 50}, \"1010\": {\"name\": \"cake\", \"pr\": \"79\", \"qn\": 36}, \"1011\": {\"name\": \"drink\", \"pr\": \"78\", \"qn\": 35}, \"1012\": {\"name\": \"pen\", \"pr\": \"50\", \"qn\": 80}, \"1013\": {\"name\": \"pencil\", \"pr\": \"78\", \"qn\": 41}, \"1014\": {\"name\": \"books\", \"pr\": \"99\", \"qn\": 27}, \"1015\": {\"name\": \"chocolates\", \"pr\": \"90\", \"qn\": 25}, \"1016\": {\"name\": \"bevarages\", \"pr\": \"89\", \"qn\": 35}, \"1017\": {\"name\": \"phone\", \"pr\": \"99\", \"qn\": 95}, \"1018\": {\"name\": \"bag\", \"pr\": \"89\", \"qn\": \"50\"}, \"1019\": {\"name\": \"shoe\", \"pr\": \"79\", \"qn\": 11}, \"1020\": {\"name\": \"toothpaste\", \"pr\": \"30\", \"qn\": \"99\"}}'"
            ],
            "application/vnd.google.colaboratory.intrinsic+json": {
              "type": "string"
            }
          },
          "metadata": {},
          "execution_count": 2
        }
      ]
    },
    {
      "cell_type": "markdown",
      "source": [
        "## **Purchase**"
      ],
      "metadata": {
        "id": "z1SgB2jloM4Z"
      }
    },
    {
      "cell_type": "code",
      "source": [
        "ui_prod = str(input(\"Enter the product id: \"))\n",
        "ui_quant = int(input(\"Enter the product quantity: \"))\n",
        "\n",
        "print(\"Product: \",records[ui_prod]['name'])\n",
        "print(\"Price: \",records[ui_prod]['pr'])\n",
        "print(\"Billing Ammount: \",int(records[ui_prod]['pr']) * ui_quant)\n",
        "\n",
        "records[ui_prod]['qn'] = int(records[ui_prod]['qn']) - ui_quant"
      ],
      "metadata": {
        "colab": {
          "base_uri": "https://localhost:8080/"
        },
        "id": "V8WVuh_C09iF",
        "outputId": "dde6aec0-a527-417e-b729-c8d113b89b6e"
      },
      "execution_count": 54,
      "outputs": [
        {
          "output_type": "stream",
          "name": "stdout",
          "text": [
            "Enter the product id: 1004\n",
            "Enter the product quantity: 1\n",
            "Product:  bread\n",
            "Price:  69\n",
            "Billing Ammount:  69\n"
          ]
        }
      ]
    },
    {
      "cell_type": "code",
      "source": [
        "records"
      ],
      "metadata": {
        "colab": {
          "base_uri": "https://localhost:8080/"
        },
        "id": "lJEnht2F315N",
        "outputId": "1c346854-612f-4870-dc1b-285ec0814a14"
      },
      "execution_count": 4,
      "outputs": [
        {
          "output_type": "execute_result",
          "data": {
            "text/plain": [
              "{'1001': {'name': 'Choco Cake', 'qn': -17, 'pr': 100},\n",
              " '1002': {'name': 'Milk Cake', 'pr': 800, 'qn': 95},\n",
              " '1003': {'name': 'milk', 'pr': '56', 'qn': '67'},\n",
              " '1004': {'name': 'bread', 'pr': '69', 'qn': 5},\n",
              " '1005': {'name': 'butter', 'pr': '80', 'qn': 55},\n",
              " '1006': {'name': 'pasta', 'pr': '100', 'qn': 36},\n",
              " '1007': {'name': 'biscuits', 'pr': '90', 'qn': 47},\n",
              " '1008': {'name': 'fruits', 'pr': '97', 'qn': 51},\n",
              " '1009': {'name': 'vegetables', 'pr': '80', 'qn': 50},\n",
              " '1010': {'name': 'cake', 'pr': '79', 'qn': 36},\n",
              " '1011': {'name': 'drink', 'pr': '78', 'qn': 35},\n",
              " '1012': {'name': 'pen', 'pr': '50', 'qn': 80},\n",
              " '1013': {'name': 'pencil', 'pr': '78', 'qn': 41},\n",
              " '1014': {'name': 'books', 'pr': '99', 'qn': 27},\n",
              " '1015': {'name': 'chocolates', 'pr': '90', 'qn': 25},\n",
              " '1016': {'name': 'bevarages', 'pr': '89', 'qn': 35},\n",
              " '1017': {'name': 'phone', 'pr': '99', 'qn': 95},\n",
              " '1018': {'name': 'bag', 'pr': '89', 'qn': '50'},\n",
              " '1019': {'name': 'shoe', 'pr': '79', 'qn': 8},\n",
              " '1020': {'name': 'toothpaste', 'pr': '30', 'qn': '99'}}"
            ]
          },
          "metadata": {},
          "execution_count": 4
        }
      ]
    },
    {
      "cell_type": "markdown",
      "source": [
        "\n",
        "# **Update Inventory after purchase**"
      ],
      "metadata": {
        "id": "7-M1O9jJzkmF"
      }
    },
    {
      "cell_type": "code",
      "source": [
        "js = json.dumps(records)                                   #dumps for converting dict to string\n",
        "\n",
        "fd = open(\"record.json\",'w')\n",
        "fd.write(js)\n",
        "fd.close()"
      ],
      "metadata": {
        "id": "jP6Ak09Bz1oy"
      },
      "execution_count": 55,
      "outputs": []
    },
    {
      "cell_type": "code",
      "source": [
        "records\n"
      ],
      "metadata": {
        "id": "D-8iKlIz1JvW",
        "outputId": "715bde57-6d66-47f8-fb5f-33fdea50633b",
        "colab": {
          "base_uri": "https://localhost:8080/"
        }
      },
      "execution_count": 25,
      "outputs": [
        {
          "output_type": "execute_result",
          "data": {
            "text/plain": [
              "{'1001': {'name': 'Choco Cake', 'qn': -17, 'pr': 100},\n",
              " '1002': {'name': 'Milk Cake', 'pr': 800, 'qn': 95},\n",
              " '1003': {'name': 'milk', 'pr': '56', 'qn': '67'},\n",
              " '1004': {'name': 'bread', 'pr': '69', 'qn': 5},\n",
              " '1005': {'name': 'butter', 'pr': '80', 'qn': 35},\n",
              " '1006': {'name': 'pasta', 'pr': '100', 'qn': 36},\n",
              " '1007': {'name': 'biscuits', 'pr': '90', 'qn': 47},\n",
              " '1008': {'name': 'fruits', 'pr': '97', 'qn': 51},\n",
              " '1009': {'name': 'vegetables', 'pr': '80', 'qn': 47},\n",
              " '1010': {'name': 'cake', 'pr': '79', 'qn': 36},\n",
              " '1011': {'name': 'drink', 'pr': '78', 'qn': 35},\n",
              " '1012': {'name': 'pen', 'pr': '50', 'qn': 80},\n",
              " '1013': {'name': 'pencil', 'pr': '78', 'qn': 41},\n",
              " '1014': {'name': 'books', 'pr': '99', 'qn': 27},\n",
              " '1015': {'name': 'chocolates', 'pr': '90', 'qn': 25},\n",
              " '1016': {'name': 'bevarages', 'pr': '89', 'qn': 35},\n",
              " '1017': {'name': 'phone', 'pr': '99', 'qn': 95},\n",
              " '1018': {'name': 'bag', 'pr': '89', 'qn': '50'},\n",
              " '1019': {'name': 'shoe', 'pr': '79', 'qn': 8},\n",
              " '1020': {'name': 'toothpaste', 'pr': '30', 'qn': '99'}}"
            ]
          },
          "metadata": {},
          "execution_count": 25
        }
      ]
    },
    {
      "cell_type": "markdown",
      "source": [
        "# **Sales Json**"
      ],
      "metadata": {
        "id": "dveaWvbE4s7o"
      }
    },
    {
      "cell_type": "code",
      "source": [
        "\n",
        "sales = {1: {'prod' : ui_prod, 'qn':ui_quant, 'amount' : int(records[ui_prod]['pr']) * ui_quant}}"
      ],
      "metadata": {
        "id": "dTDrIXNM4wjM"
      },
      "execution_count": 56,
      "outputs": []
    },
    {
      "cell_type": "code",
      "source": [
        "sale = json.dumps(sales)\n",
        "\n",
        "fd = open(\"sales.json\",'a')\n",
        "r = fd.write(sale)\n",
        "fd.close()\n"
      ],
      "metadata": {
        "id": "YjLTRWe1KWR4"
      },
      "execution_count": 57,
      "outputs": []
    },
    {
      "cell_type": "code",
      "source": [
        "sales"
      ],
      "metadata": {
        "colab": {
          "base_uri": "https://localhost:8080/"
        },
        "id": "_zy9GApjLgaK",
        "outputId": "453b3457-8464-4c1d-a0dd-7c660c388f5f"
      },
      "execution_count": 58,
      "outputs": [
        {
          "output_type": "execute_result",
          "data": {
            "text/plain": [
              "{1: {'prod': '1004', 'qn': 1, 'amount': 69}}"
            ]
          },
          "metadata": {},
          "execution_count": 58
        }
      ]
    }
  ]
}