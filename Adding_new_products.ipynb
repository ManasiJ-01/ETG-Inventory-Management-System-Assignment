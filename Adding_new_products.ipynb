{
  "nbformat": 4,
  "nbformat_minor": 0,
  "metadata": {
    "colab": {
      "provenance": []
    },
    "kernelspec": {
      "name": "python3",
      "display_name": "Python 3"
    },
    "language_info": {
      "name": "python"
    }
  },
  "cells": [
    {
      "cell_type": "markdown",
      "source": [
        "# **Read data from JSON**"
      ],
      "metadata": {
        "id": "BxzcWv2uTmmC"
      }
    },
    {
      "cell_type": "code",
      "source": [
        "fd = open(\"record.json\",'r')\n",
        "r = fd.read()\n",
        "fd.close()"
      ],
      "metadata": {
        "id": "bO4UiD-1TrnZ"
      },
      "execution_count": null,
      "outputs": []
    },
    {
      "cell_type": "code",
      "source": [
        "import json\n",
        "record = json.loads(r)"
      ],
      "metadata": {
        "id": "eXa6MFNnT_fQ"
      },
      "execution_count": null,
      "outputs": []
    },
    {
      "cell_type": "code",
      "source": [
        "record"
      ],
      "metadata": {
        "colab": {
          "base_uri": "https://localhost:8080/"
        },
        "id": "B-ufnllAUNZv",
        "outputId": "cf592c4c-e2c2-45c4-fbaf-87b24fdc88f2"
      },
      "execution_count": null,
      "outputs": [
        {
          "output_type": "execute_result",
          "data": {
            "text/plain": [
              "{'1001': {'name': 'Choco Cake', 'qn': 34, 'pr': 100},\n",
              " '1002': {'name': 'Milk Cake', 'pr': 800, 'qn': 100}}"
            ]
          },
          "metadata": {},
          "execution_count": 3
        }
      ]
    },
    {
      "cell_type": "code",
      "source": [
        "prod_id = str(input(\"Enter product id : \"))\n",
        "name = str(input(\"Enter name : \"))\n",
        "pr = str(input(\"Enter price : \"))\n",
        "qn = str(input(\"Enter quantity: \"))\n",
        "\n",
        "record[prod_id] = {'name' : name, 'pr' : pr, 'qn' : qn}"
      ],
      "metadata": {
        "colab": {
          "base_uri": "https://localhost:8080/"
        },
        "id": "zJTVYoryUe18",
        "outputId": "16c0df84-d885-461a-8189-ce5a5aa1f4e7"
      },
      "execution_count": null,
      "outputs": [
        {
          "name": "stdout",
          "output_type": "stream",
          "text": [
            "Enter product id : 1003\n",
            "Enter name : milk\n",
            "Enter price : 56\n",
            "Enter quantity: 67\n"
          ]
        }
      ]
    },
    {
      "cell_type": "code",
      "source": [
        "record"
      ],
      "metadata": {
        "colab": {
          "base_uri": "https://localhost:8080/"
        },
        "id": "Re_SU9T5ejL1",
        "outputId": "e7565d6b-69cf-485b-fcb9-9e07a1dab428"
      },
      "execution_count": null,
      "outputs": [
        {
          "output_type": "execute_result",
          "data": {
            "text/plain": [
              "{'1001': {'name': 'Choco Cake', 'qn': 34, 'pr': 100},\n",
              " '1002': {'name': 'Milk Cake', 'pr': 800, 'qn': 100},\n",
              " '1003': {'name': 'milk', 'pr': '56', 'qn': '67'},\n",
              " '1004': {'name': 'bread', 'pr': '69', 'qn': '40'},\n",
              " '1005': {'name': 'butter', 'pr': '80', 'qn': '60'}}"
            ]
          },
          "metadata": {},
          "execution_count": 12
        }
      ]
    },
    {
      "cell_type": "markdown",
      "source": [
        "# **Add New Item into Inventory**"
      ],
      "metadata": {
        "id": "5upS3kNde9Ya"
      }
    },
    {
      "cell_type": "code",
      "source": [
        "prod_id = str(input(\"Enter product id : \"))\n",
        "name = str(input(\"Enter name : \"))\n",
        "pr = str(input(\"Enter price : \"))\n",
        "qn = str(input(\"Enter quantity: \"))\n",
        "\n",
        "record[prod_id] = {'name' : name, 'pr' : pr, 'qn' : qn}\n",
        "\n",
        "js = json.dumps(record)\n",
        "\n",
        "fd = open(\"record.json\",'w')\n",
        "fd.write(js)\n",
        "fd.close()"
      ],
      "metadata": {
        "colab": {
          "base_uri": "https://localhost:8080/"
        },
        "id": "MRtjjKXjfGZe",
        "outputId": "90f48005-b483-40c8-ae4c-e9689d6b2126"
      },
      "execution_count": null,
      "outputs": [
        {
          "name": "stdout",
          "output_type": "stream",
          "text": [
            "Enter product id : 1020\n",
            "Enter name : toothpaste\n",
            "Enter price : 30\n",
            "Enter quantity: 99\n"
          ]
        }
      ]
    },
    {
      "cell_type": "code",
      "source": [
        "record"
      ],
      "metadata": {
        "colab": {
          "base_uri": "https://localhost:8080/"
        },
        "id": "EkGmMAbogKp1",
        "outputId": "e4e8f189-b76a-49f9-a1f0-ea01d1301052"
      },
      "execution_count": null,
      "outputs": [
        {
          "output_type": "execute_result",
          "data": {
            "text/plain": [
              "{'1001': {'name': 'Choco Cake', 'qn': 34, 'pr': 100},\n",
              " '1002': {'name': 'Milk Cake', 'pr': 800, 'qn': 100},\n",
              " '1003': {'name': 'milk', 'pr': '56', 'qn': '67'},\n",
              " '1004': {'name': 'bread', 'pr': '69', 'qn': '40'},\n",
              " '1005': {'name': 'butter', 'pr': '80', 'qn': '60'},\n",
              " '1006': {'name': 'pasta', 'pr': '100', 'qn': '50'},\n",
              " '1007': {'name': 'biscuits', 'pr': '90', 'qn': '80'},\n",
              " '1008': {'name': 'fruits', 'pr': '97', 'qn': '56'},\n",
              " '1009': {'name': 'vegetables', 'pr': '80', 'qn': '60'},\n",
              " '1010': {'name': 'cake', 'pr': '79', 'qn': '40'},\n",
              " '1011': {'name': 'drink', 'pr': '78', 'qn': '70'},\n",
              " '1012': {'name': 'pen', 'pr': '50', 'qn': '90'},\n",
              " '1013': {'name': 'pencil', 'pr': '78', 'qn': '56'},\n",
              " '1014': {'name': 'books', 'pr': '99', 'qn': '37'},\n",
              " '1015': {'name': 'chocolates', 'pr': '90', 'qn': '70'},\n",
              " '1016': {'name': 'bevarages', 'pr': '89', 'qn': '45'},\n",
              " '1017': {'name': 'phone', 'pr': '99', 'qn': '100'},\n",
              " '1018': {'name': 'bag', 'pr': '89', 'qn': '50'},\n",
              " '1019': {'name': 'shoe', 'pr': '79', 'qn': '88'},\n",
              " '1020': {'name': 'toothpaste', 'pr': '30', 'qn': '99'}}"
            ]
          },
          "metadata": {},
          "execution_count": 35
        }
      ]
    }
  ]
}